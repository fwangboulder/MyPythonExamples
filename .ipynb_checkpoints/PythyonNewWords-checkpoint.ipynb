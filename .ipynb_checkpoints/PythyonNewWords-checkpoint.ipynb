{
 "cells": [
  {
   "cell_type": "markdown",
   "metadata": {},
   "source": [
    "New Vocabulary Words:\n",
    "--Class: a blueprint\n",
    "\n",
    "--Instance: an object created by the blueprint\n",
    "\n",
    "--Constructor: init a instance and create space\n",
    "\n",
    "--Self: the object being created\n",
    "\n",
    "--Instance Variables\n",
    "\n",
    "--class variables\n",
    "\n",
    "--Local Variables\n",
    "\n",
    "--Global Variables\n",
    "\n",
    "--Instance methods: a function defined inside a class, and associated with an instance\n",
    "\n",
    "--shebang line: determine the script's ability to be executed like an standalone executable without typing python beforehand   #!/usr/bin/env python\n",
    "\n",
    "\n",
    "-Inheritance: parent, child\n",
    "    class Parent:last name ,eye_color\n",
    "    class Child(inherits from parent), number_of_toys\n",
    "            \n",
    "- modulename.className.__doc__\n",
    "- modulename.className.__name__\n",
    "- modulename.className.__module__\n",
    "\n"
   ]
  },
  {
   "cell_type": "code",
   "execution_count": 26,
   "metadata": {
    "collapsed": false
   },
   "outputs": [],
   "source": [
    "#Inheritance example\n",
    "#!/usr/bin/env python\n",
    "class Parent():\n",
    "    def __init__(self,last_name,eye_color):\n",
    "        print 'Parent Constructor called.'\n",
    "        self.last_name=last_name\n",
    "        self.eye_color=eye_color\n",
    "    def show_infor(self):\n",
    "        print 'Parent show_infor()'\n",
    "        print \"Last Name: \", self.last_name\n",
    "        print \"Eye Color: \", self.eye_color\n",
    "class Child(Parent):\n",
    "    def __init__(self,last_name,eye_color,number_of_toys):\n",
    "        print 'Child Constructor Called.'\n",
    "        Parent.__init__(self,last_name,eye_color)\n",
    "        self.number_of_toys=number_of_toys\n",
    "    def show_infor(self):\n",
    "        print 'Child show_infor()'\n",
    "        print 'last name: ',self.last_name\n",
    "        print \"Eye Color: \", self.eye_color\n",
    "        print 'number_of_toys ', self.number_of_toys"
   ]
  },
  {
   "cell_type": "code",
   "execution_count": 24,
   "metadata": {
    "collapsed": false
   },
   "outputs": [
    {
     "name": "stdout",
     "output_type": "stream",
     "text": [
      "Parent Constructor called.\n",
      "Wang\n",
      "Parent show_infor()\n",
      "Last Name:  Wang\n",
      "Eye Color:  black\n"
     ]
    }
   ],
   "source": [
    "Fang_Wang=Parent('Wang','black')\n",
    "print Fang_Wang.last_name\n",
    "Fang_Wang.show_infor()"
   ]
  },
  {
   "cell_type": "code",
   "execution_count": 27,
   "metadata": {
    "collapsed": false
   },
   "outputs": [
    {
     "name": "stdout",
     "output_type": "stream",
     "text": [
      "Child Constructor Called.\n",
      "Parent Constructor called.\n",
      "Wang\n",
      "5\n",
      "Child show_infor()\n",
      "last name:  Wang\n",
      "Eye Color:  Black\n",
      "number_of_toys  5\n"
     ]
    }
   ],
   "source": [
    "Li_Zhang=Child('Wang','Black','5')\n",
    "print Li_Zhang.last_name\n",
    "print Li_Zhang.number_of_toys\n",
    "Li_Zhang.show_infor() \n",
    "#Instance Child will call the show_infor from class Parent\n",
    "#However, if Child has its own show_infor(), then method overring will occur. It uses its own method first."
   ]
  },
  {
   "cell_type": "code",
   "execution_count": null,
   "metadata": {
    "collapsed": true
   },
   "outputs": [],
   "source": []
  }
 ],
 "metadata": {
  "anaconda-cloud": {},
  "kernelspec": {
   "display_name": "Python [Root]",
   "language": "python",
   "name": "Python [Root]"
  },
  "language_info": {
   "codemirror_mode": {
    "name": "ipython",
    "version": 2
   },
   "file_extension": ".py",
   "mimetype": "text/x-python",
   "name": "python",
   "nbconvert_exporter": "python",
   "pygments_lexer": "ipython2",
   "version": "2.7.12"
  }
 },
 "nbformat": 4,
 "nbformat_minor": 0
}
