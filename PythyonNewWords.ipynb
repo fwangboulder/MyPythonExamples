{
 "cells": [
  {
   "cell_type": "markdown",
   "metadata": {},
   "source": [
    "New Vocabulary Words:\n",
    "-Class: a blueprint\n",
    "-Instance: an object created by the blueprint\n",
    "-Constructor: init a instance and create space\n",
    "-Self: the object being created\n",
    "-Instance Variables\n",
    "-class variables\n",
    "-Local Variables\n",
    "-Global Variables\n",
    "-Instance methods: a function defined inside a class, and associated with an instance\n",
    "-shebang line: determine the script's ability to be executed like an standalone executable without typing python beforehand   #!/usr/bin/env python\n",
    "\n",
    "\n",
    "-Inheritance: parent, child\n",
    "    class Parent:last name ,eye_color\n",
    "    class Child(inherits from parent), number_of_toys\n",
    "- Method Overridding\n",
    "            \n",
    "- modulename.className.__doc__\n",
    "- modulename.className.__name__\n",
    "- modulename.className.__module__\n",
    "\n"
   ]
  },
  {
   "cell_type": "code",
   "execution_count": 1,
   "metadata": {
    "collapsed": true
   },
   "outputs": [],
   "source": [
    "#Inheritance example\n",
    "#!/usr/bin/env python\n",
    "class Parent():\n",
    "    def __init__(self,last_name,eye_color):\n",
    "        print 'Parent Constructor called.'\n",
    "        self.last_name=last_name\n",
    "        self.eye_color=eye_color\n",
    "class Child(Parent):\n",
    "    def __init__(self,last_name,eye_color,number_of_toys):\n",
    "        print 'Child Constructor Called.'\n",
    "        Parent.__init__(self,last_name,eye_color)\n",
    "        self.number_of_toys=number_of_toys"
   ]
  },
  {
   "cell_type": "code",
   "execution_count": 2,
   "metadata": {
    "collapsed": false
   },
   "outputs": [
    {
     "name": "stdout",
     "output_type": "stream",
     "text": [
      "Parent Constructor called.\n",
      "Wang\n"
     ]
    }
   ],
   "source": [
    "Fang_Wang=Parent('Wang','black')\n",
    "print Fang_Wang.last_name"
   ]
  },
  {
   "cell_type": "code",
   "execution_count": 3,
   "metadata": {
    "collapsed": false
   },
   "outputs": [
    {
     "name": "stdout",
     "output_type": "stream",
     "text": [
      "Child Constructor Called.\n",
      "Parent Constructor called.\n",
      "Wang\n",
      "5\n"
     ]
    }
   ],
   "source": [
    "Li_Zhang=Child('Wang','Black','5')\n",
    "print Li_Zhang.last_name\n",
    "print Li_Zhang.number_of_toys"
   ]
  },
  {
   "cell_type": "code",
   "execution_count": null,
   "metadata": {
    "collapsed": true
   },
   "outputs": [],
   "source": []
  }
 ],
 "metadata": {
  "anaconda-cloud": {},
  "kernelspec": {
   "display_name": "Python [Root]",
   "language": "python",
   "name": "Python [Root]"
  },
  "language_info": {
   "codemirror_mode": {
    "name": "ipython",
    "version": 2
   },
   "file_extension": ".py",
   "mimetype": "text/x-python",
   "name": "python",
   "nbconvert_exporter": "python",
   "pygments_lexer": "ipython2",
   "version": "2.7.12"
  }
 },
 "nbformat": 4,
 "nbformat_minor": 0
}
